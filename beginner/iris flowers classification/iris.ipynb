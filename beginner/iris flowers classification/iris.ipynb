{
 "cells": [
  {
   "cell_type": "code",
   "execution_count": 3,
   "metadata": {},
   "outputs": [
    {
     "name": "stdout",
     "output_type": "stream",
     "text": [
      "   sepal length (cm)  sepal width (cm)  petal length (cm)  petal width (cm)  \\\n",
      "0                5.1               3.5                1.4               0.2   \n",
      "1                4.9               3.0                1.4               0.2   \n",
      "2                4.7               3.2                1.3               0.2   \n",
      "3                4.6               3.1                1.5               0.2   \n",
      "4                5.0               3.6                1.4               0.2   \n",
      "\n",
      "   target   class  \n",
      "0       0  setosa  \n",
      "1       0  setosa  \n",
      "2       0  setosa  \n",
      "3       0  setosa  \n",
      "4       0  setosa  \n",
      "Accuracy:  1.0\n"
     ]
    }
   ],
   "source": [
    "from sklearn import datasets\n",
    "import pandas as pd\n",
    "from sklearn.model_selection import train_test_split\n",
    "from sklearn.tree import DecisionTreeClassifier\n",
    "from sklearn.metrics import accuracy_score\n",
    "\n",
    "# Load iris dataset\n",
    "iris = datasets.load_iris()\n",
    "\n",
    "# Create a DataFrame from the dictionary\n",
    "iris_df = pd.DataFrame(data=iris.data, columns=iris.feature_names)\n",
    "\n",
    "# Add target and class to DataFrame\n",
    "iris_df['target'] = iris.target\n",
    "iris_df['class'] = iris.target_names[iris.target]\n",
    "\n",
    "# Show the DataFrame\n",
    "print(iris_df.head())\n",
    "\n",
    "# Split the data into a training set and a test set\n",
    "X = iris_df.drop(['target', 'class'], axis=1)\n",
    "Y = iris_df['target']\n",
    "X_train, X_test, Y_train, Y_test = train_test_split(X, Y, test_size=0.2, random_state=42)\n",
    "\n",
    "# Initialize a Decision Tree classifier\n",
    "dt = DecisionTreeClassifier()\n",
    "\n",
    "# Fit the model to the training data\n",
    "dt.fit(X_train, Y_train)\n",
    "\n",
    "# Predict the labels of the test set\n",
    "Y_pred = dt.predict(X_test)\n",
    "\n",
    "# Print the accuracy of the model\n",
    "print('Accuracy: ', accuracy_score(Y_test, Y_pred))\n"
   ]
  },
  {
   "attachments": {},
   "cell_type": "markdown",
   "metadata": {},
   "source": [
    "the accuracy score is perfect, which might indicate that there's overfitting. let's check"
   ]
  },
  {
   "cell_type": "code",
   "execution_count": 4,
   "metadata": {},
   "outputs": [
    {
     "name": "stdout",
     "output_type": "stream",
     "text": [
      "Scores:  [0.96666667 0.96666667 0.9        0.96666667 1.        ]\n",
      "Mean score:  0.9600000000000002\n"
     ]
    }
   ],
   "source": [
    "from sklearn.model_selection import cross_val_score\n",
    "\n",
    "# Perform 5-fold cross-validation\n",
    "scores = cross_val_score(dt, X, Y, cv=5)\n",
    "\n",
    "# Print the accuracy of each fold\n",
    "print('Scores: ', scores)\n",
    "\n",
    "# Print the mean accuracy of all 5 folds\n",
    "print('Mean score: ', scores.mean())\n"
   ]
  },
  {
   "attachments": {},
   "cell_type": "markdown",
   "metadata": {},
   "source": [
    "The k-fold cross-validation result indicates that the model's performance is quite good, with an average accuracy score of 96%. While it's slightly less than the perfect score (100%) we got on the test set, it's still very high. This implies that the Decision Tree classifier is doing a good job of classifying the Iris species and is not just overfitting to the data."
   ]
  }
 ],
 "metadata": {
  "kernelspec": {
   "display_name": "base",
   "language": "python",
   "name": "python3"
  },
  "language_info": {
   "codemirror_mode": {
    "name": "ipython",
    "version": 3
   },
   "file_extension": ".py",
   "mimetype": "text/x-python",
   "name": "python",
   "nbconvert_exporter": "python",
   "pygments_lexer": "ipython3",
   "version": "3.10.10"
  },
  "orig_nbformat": 4
 },
 "nbformat": 4,
 "nbformat_minor": 2
}
